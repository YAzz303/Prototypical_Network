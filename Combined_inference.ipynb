{
 "cells": [
  {
   "cell_type": "code",
   "execution_count": 74,
   "id": "2c742eab",
   "metadata": {},
   "outputs": [],
   "source": [
    "import torch\n",
    "from torch import nn, optim\n",
    "from torch.utils.data import DataLoader\n",
    "from torchvision import models\n",
    "from torchvision import transforms\n",
    "from torchvision.datasets import Omniglot\n",
    "from torchvision.models import resnet18\n",
    "from tqdm import tqdm\n",
    "from torchvision import datasets \n",
    "import torch\n",
    "import cv2\n",
    "import os\n",
    "from PIL import Image\n",
    "from ultralytics import YOLO\n",
    "import pandas as pd\n",
    "import json"
   ]
  },
  {
   "cell_type": "code",
   "execution_count": 75,
   "id": "f4fd562c",
   "metadata": {},
   "outputs": [],
   "source": [
    "# --- Configuration ---\n",
    "DETECTOR_MODEL_PATH = 'runs/detect/yolov8n-detector/weights/best.pt'\n",
    "PROTO_MODEL_PATH = \"prototypical_networks_2.pth\"\n",
    "PROTOTYPES_PATH = \"prototypes_resnet.pth\"\n",
    "INDEX_TO_LABEL_CSV = \"index_to_label.csv\"\n",
    "OUTPUT_FOLDER = \"detected_characters\"\n",
    "os.makedirs(OUTPUT_FOLDER, exist_ok=True)"
   ]
  },
  {
   "cell_type": "code",
   "execution_count": 76,
   "id": "637ccc8e",
   "metadata": {},
   "outputs": [],
   "source": [
    "device = torch.device(\"cuda\" if torch.cuda.is_available() else \"cpu\")"
   ]
  },
  {
   "cell_type": "code",
   "execution_count": 77,
   "id": "6ed2bb3d",
   "metadata": {},
   "outputs": [],
   "source": [
    "detector = YOLO(DETECTOR_MODEL_PATH)"
   ]
  },
  {
   "cell_type": "code",
   "execution_count": 78,
   "id": "a72b2e75",
   "metadata": {},
   "outputs": [],
   "source": [
    "# --- Model Definitions ---\n",
    "class PrototypicalNetworks(nn.Module):\n",
    "    def __init__(self, backbone: nn.Module):\n",
    "        super(PrototypicalNetworks, self).__init__()\n",
    "        self.backbone = backbone\n",
    "\n",
    "    def forward(self, support_images, support_labels, query_images):\n",
    "        z_support = self.backbone(support_images)\n",
    "        z_query = self.backbone(query_images)\n",
    "        n_way = len(torch.unique(support_labels))\n",
    "        z_proto = torch.cat([z_support[torch.nonzero(support_labels == label)].mean(0) for label in range(n_way)])\n",
    "        dists = torch.cdist(z_query, z_proto)\n",
    "        return -dists"
   ]
  },
  {
   "cell_type": "code",
   "execution_count": 79,
   "id": "982969ed",
   "metadata": {},
   "outputs": [
    {
     "name": "stderr",
     "output_type": "stream",
     "text": [
      "c:\\Users\\acer\\anaconda3\\envs\\env\\Lib\\site-packages\\torchvision\\models\\_utils.py:208: UserWarning: The parameter 'pretrained' is deprecated since 0.13 and may be removed in the future, please use 'weights' instead.\n",
      "  warnings.warn(\n",
      "c:\\Users\\acer\\anaconda3\\envs\\env\\Lib\\site-packages\\torchvision\\models\\_utils.py:223: UserWarning: Arguments other than a weight enum or `None` for 'weights' are deprecated since 0.13 and may be removed in the future. The current behavior is equivalent to passing `weights=ResNet18_Weights.IMAGENET1K_V1`. You can also use `weights=ResNet18_Weights.DEFAULT` to get the most up-to-date weights.\n",
      "  warnings.warn(msg)\n",
      "C:\\Users\\acer\\AppData\\Local\\Temp\\ipykernel_11552\\2689200946.py:6: FutureWarning: You are using `torch.load` with `weights_only=False` (the current default value), which uses the default pickle module implicitly. It is possible to construct malicious pickle data which will execute arbitrary code during unpickling (See https://github.com/pytorch/pytorch/blob/main/SECURITY.md#untrusted-models for more details). In a future release, the default value for `weights_only` will be flipped to `True`. This limits the functions that could be executed during unpickling. Arbitrary objects will no longer be allowed to be loaded via this mode unless they are explicitly allowlisted by the user via `torch.serialization.add_safe_globals`. We recommend you start setting `weights_only=True` for any use case where you don't have full control of the loaded file. Please open an issue on GitHub for any issues related to this experimental feature.\n",
      "  model.load_state_dict(torch.load(PROTO_MODEL_PATH, map_location=device))\n",
      "C:\\Users\\acer\\AppData\\Local\\Temp\\ipykernel_11552\\2689200946.py:7: FutureWarning: You are using `torch.load` with `weights_only=False` (the current default value), which uses the default pickle module implicitly. It is possible to construct malicious pickle data which will execute arbitrary code during unpickling (See https://github.com/pytorch/pytorch/blob/main/SECURITY.md#untrusted-models for more details). In a future release, the default value for `weights_only` will be flipped to `True`. This limits the functions that could be executed during unpickling. Arbitrary objects will no longer be allowed to be loaded via this mode unless they are explicitly allowlisted by the user via `torch.serialization.add_safe_globals`. We recommend you start setting `weights_only=True` for any use case where you don't have full control of the loaded file. Please open an issue on GitHub for any issues related to this experimental feature.\n",
      "  prototypes = torch.load(PROTOTYPES_PATH, map_location=device)\n"
     ]
    }
   ],
   "source": [
    "# 2. Load Prototypical Network\n",
    "def load_models():\n",
    "    backbone = models.resnet18(pretrained=True)\n",
    "    backbone.fc = nn.Flatten()\n",
    "    model = PrototypicalNetworks(backbone).to(device)\n",
    "    model.load_state_dict(torch.load(PROTO_MODEL_PATH, map_location=device))\n",
    "    prototypes = torch.load(PROTOTYPES_PATH, map_location=device)\n",
    "    return model, prototypes\n",
    "\n",
    "model, prototypes = load_models()"
   ]
  },
  {
   "cell_type": "code",
   "execution_count": 80,
   "id": "54434042",
   "metadata": {},
   "outputs": [],
   "source": [
    "from PIL import Image\n",
    "from torchvision import transforms\n",
    "\n",
    "# Define the same preprocessing used during training/support\n",
    "preprocess = transforms.Compose([\n",
    "    transforms.Grayscale(num_output_channels=3),  # convert to 3 channels\n",
    "    transforms.Resize((28, 28)),  # or your backbone's expected size\n",
    "    transforms.ToTensor(),\n",
    "    transforms.Normalize(mean=[0.5, 0.5, 0.5], std=[0.5, 0.5, 0.5])\n",
    "])\n",
    "\n",
    "\n"
   ]
  },
  {
   "cell_type": "code",
   "execution_count": 81,
   "id": "3bb45d02",
   "metadata": {},
   "outputs": [],
   "source": [
    "# --- Handle 28x28 input for standard ResNet ---\n",
    "def adapt_resnet_for_28x28():\n",
    "    # Modify first layer to handle small inputs\n",
    "    model.backbone.conv1 = nn.Conv2d(3, 64, kernel_size=3, stride=1, padding=1, bias=False)\n",
    "    model.backbone.maxpool = nn.Identity()  # Remove first maxpool\n",
    "    model.backbone = model.backbone.to(device)\n",
    "\n",
    "adapt_resnet_for_28x28()"
   ]
  },
  {
   "cell_type": "code",
   "execution_count": 82,
   "id": "ae7ec1a8",
   "metadata": {},
   "outputs": [],
   "source": [
    "def process_image(image_path):\n",
    "    # 1. Run YOLOv8 Detection\n",
    "    detector = YOLO(DETECTOR_MODEL_PATH)\n",
    "    results = detector(image_path)\n",
    "    \n",
    "    output_img = results[0].orig_img.copy()\n",
    "    height, width = output_img.shape[:2]\n",
    "    \n",
    "    predictions = []\n",
    "    for i, box in enumerate(results[0].boxes):\n",
    "        x1, y1, x2, y2 = map(int, box.xyxy[0].cpu().numpy())\n",
    "        confidence = box.conf.item()\n",
    "        \n",
    "        if x2 <= x1 or y2 <= y1 or (x2-x1) < 5 or (y2-y1) < 5:\n",
    "            continue\n",
    "            \n",
    "        try:\n",
    "            crop = output_img[max(0,y1-2):min(height,y2+2), max(0,x1-2):min(width,x2+2)]\n",
    "            crop_pil = Image.fromarray(cv2.cvtColor(crop, cv2.COLOR_BGR2RGB))\n",
    "            crop_tensor = preprocess(crop_pil).unsqueeze(0).to(device)\n",
    "            \n",
    "            with torch.no_grad():\n",
    "                embedding = model.backbone(crop_tensor)\n",
    "                if embedding.dim() == 1:\n",
    "                    embedding = embedding.unsqueeze(0)\n",
    "                dists = torch.cdist(embedding, prototypes)\n",
    "                class_idx = torch.argmax(-dists).item()\n",
    "            \n",
    "            df = pd.read_csv(INDEX_TO_LABEL_CSV)\n",
    "            label = df[df['Index'] == class_idx]['Label Name'].values[0]\n",
    "            \n",
    "            predictions.append({\n",
    "                \"bbox\": [x1, y1, x2, y2],\n",
    "                \"class\": label,\n",
    "                \"confidence\": confidence\n",
    "            })\n",
    "            \n",
    "            # Visualization\n",
    "            cv2.rectangle(output_img, (x1, y1), (x2, y2), (0,255,0), 2)\n",
    "            label_text = f\"{label} {confidence:.2f}\"\n",
    "            (w, h), _ = cv2.getTextSize(label_text, cv2.FONT_HERSHEY_SIMPLEX, 2, 4 )\n",
    "            # Adjust label background rectangle\n",
    "            cv2.rectangle(output_img, \n",
    "                        (x1, y1 - h - 10),  # Increased padding\n",
    "                        (x1 + w, y1),\n",
    "                        (0, 255, 0), -1)\n",
    "\n",
    "            # Draw text with larger font\n",
    "            cv2.putText(output_img, label_text,\n",
    "                    (x1, y1 - 5),\n",
    "                    cv2.FONT_HERSHEY_SIMPLEX,\n",
    "                    2,  \n",
    "                    (0, 0, 255), \n",
    "                    4)  \n",
    "            \n",
    "        except Exception as e:\n",
    "            print(f\"Error processing detection {i}: {str(e)}\")\n",
    "            continue\n",
    "    \n",
    "    base_name = os.path.splitext(os.path.basename(image_path))[0]\n",
    "    output_img_path = os.path.join(OUTPUT_FOLDER, f\"{base_name}_annotated.jpg\")\n",
    "    cv2.imwrite(output_img_path, output_img)\n",
    "    \n",
    "    with open(os.path.join(OUTPUT_FOLDER, f\"{base_name}_preds.json\"), 'w') as f:\n",
    "        json.dump(predictions, f, indent=2)\n",
    "    \n",
    "    return predictions, output_img_path\n"
   ]
  },
  {
   "cell_type": "code",
   "execution_count": 83,
   "id": "a7b8c47a",
   "metadata": {},
   "outputs": [
    {
     "name": "stdout",
     "output_type": "stream",
     "text": [
      "\n",
      "image 1/1 c:\\Users\\acer\\Desktop\\prototypical_nets\\test_3.jpg: 320x256 8 items, 15.1ms\n",
      "Speed: 2.2ms preprocess, 15.1ms inference, 2.4ms postprocess per image at shape (1, 3, 320, 256)\n",
      "\n",
      "Results saved to: detected_characters\\test_3_annotated.jpg\n",
      "\n",
      "Detected Characters:\n",
      "1. maithili_dhaa (Confidence: 0.78) at [356, 2901, 986, 3669]\n",
      "2. maithili_dhaa (Confidence: 0.78) at [1940, 1978, 2514, 2623]\n",
      "3. maithili_dhaa (Confidence: 0.74) at [362, 2105, 949, 2780]\n",
      "4. tibetan-gha (Confidence: 0.70) at [1782, 2976, 2371, 3730]\n",
      "5. maithili_dhaa (Confidence: 0.68) at [1036, 1497, 1461, 1998]\n",
      "6. maithili_dhaa (Confidence: 0.61) at [355, 755, 923, 1412]\n",
      "7. maithili_dhaa (Confidence: 0.52) at [1802, 137, 2373, 953]\n",
      "8. maithili_dhaa (Confidence: 0.38) at [1989, 1140, 2676, 1898]\n"
     ]
    }
   ],
   "source": [
    "if __name__ == \"__main__\":\n",
    "    image_path = \"test_3.jpg\"\n",
    "    predictions, output_path = process_image(image_path)\n",
    "    print(f\"\\nResults saved to: {output_path}\")\n",
    "    print(\"\\nDetected Characters:\")\n",
    "    for i, pred in enumerate(predictions):\n",
    "        print(f\"{i+1}. {pred['class']} (Confidence: {pred['confidence']:.2f}) at {pred['bbox']}\")\n"
   ]
  },
  {
   "cell_type": "code",
   "execution_count": null,
   "id": "8edb8fd9",
   "metadata": {},
   "outputs": [],
   "source": []
  },
  {
   "cell_type": "code",
   "execution_count": null,
   "id": "9b4d36da",
   "metadata": {},
   "outputs": [],
   "source": []
  },
  {
   "cell_type": "code",
   "execution_count": null,
   "id": "5040c6ae",
   "metadata": {},
   "outputs": [],
   "source": []
  },
  {
   "cell_type": "code",
   "execution_count": 84,
   "id": "8fd577b3",
   "metadata": {},
   "outputs": [],
   "source": [
    "# --- Fixed Functions ---\n",
    "def prepare_query_image(image_path):\n",
    "    \"\"\"Convert image to preprocessed tensor with batch dim\"\"\"\n",
    "    img = Image.open(image_path).convert(\"RGB\")\n",
    "    img_tensor = preprocess(img).unsqueeze(0).to(device)  # Shape: [1, 3, 224, 224]\n",
    "    return img_tensor\n",
    "\n",
    "def infer_single_query(backbone, prototypes, query_image_tensor):\n",
    "    \"\"\"Classify a single query image\"\"\"\n",
    "    backbone.eval()\n",
    "    with torch.no_grad():\n",
    "        z_query = backbone(query_image_tensor)  # [1, embedding_dim]\n",
    "        dists = torch.cdist(z_query, prototypes)  # [1, n_way]\n",
    "        pred = torch.argmax(-dists, dim=1).item()\n",
    "    return pred"
   ]
  },
  {
   "cell_type": "code",
   "execution_count": 85,
   "id": "8614967c",
   "metadata": {},
   "outputs": [],
   "source": [
    "# --- Main Pipeline ---\n",
    "def process_image(image_path):\n",
    "    img = cv2.imread(image_path)\n",
    "    results = detector(img)\n",
    "    predictions = []\n",
    "    \n",
    "    for i, box in enumerate(results[0].boxes.xyxy.cpu().numpy()):\n",
    "        x1, y1, x2, y2 = map(int, box)\n",
    "        crop = img[y1:y2, x1:x2]\n",
    "        crop_path = os.path.join(OUTPUT_FOLDER, f'char_{i}.png')\n",
    "        cv2.imwrite(crop_path, crop)\n",
    "        \n",
    "        try:\n",
    "            # Fixed preprocessing and inference\n",
    "            crop_tensor = prepare_query_image(crop_path)\n",
    "            class_idx = infer_single_query(model.backbone, prototypes, crop_tensor)\n",
    "            \n",
    "            df = pd.read_csv(INDEX_TO_LABEL_CSV)\n",
    "            label = df[df['Index'] == class_idx]['Label Name'].values[0]\n",
    "            \n",
    "            predictions.append({\n",
    "                \"bbox\": [x1, y1, x2, y2],\n",
    "                \"class\": label,\n",
    "                \"confidence\": box.conf.item()\n",
    "            })\n",
    "            \n",
    "            # Draw results\n",
    "            cv2.rectangle(img, (x1, y1), (x2, y2), (0, 255, 0), 2)\n",
    "            cv2.putText(img, label, (x1, y1-10), cv2.FONT_HERSHEY_SIMPLEX, 0.9, (0,255,0), 2)\n",
    "        except Exception as e:\n",
    "            print(f\"Error processing crop {i}: {e}\")\n",
    "    \n",
    "    output_path = os.path.join(OUTPUT_FOLDER, \"annotated.jpg\")\n",
    "    cv2.imwrite(output_path, img)\n",
    "    return predictions"
   ]
  },
  {
   "cell_type": "code",
   "execution_count": 86,
   "id": "da590239",
   "metadata": {},
   "outputs": [
    {
     "name": "stdout",
     "output_type": "stream",
     "text": [
      "\n",
      "0: 320x256 8 items, 11.3ms\n",
      "Speed: 1.1ms preprocess, 11.3ms inference, 1.9ms postprocess per image at shape (1, 3, 320, 256)\n",
      "Error processing crop 0: 'numpy.ndarray' object has no attribute 'conf'\n",
      "Error processing crop 1: 'numpy.ndarray' object has no attribute 'conf'\n",
      "Error processing crop 2: 'numpy.ndarray' object has no attribute 'conf'\n",
      "Error processing crop 3: 'numpy.ndarray' object has no attribute 'conf'\n",
      "Error processing crop 4: 'numpy.ndarray' object has no attribute 'conf'\n",
      "Error processing crop 5: 'numpy.ndarray' object has no attribute 'conf'\n",
      "Error processing crop 6: 'numpy.ndarray' object has no attribute 'conf'\n",
      "Error processing crop 7: 'numpy.ndarray' object has no attribute 'conf'\n"
     ]
    }
   ],
   "source": [
    "# --- Execution ---\n",
    "if __name__ == \"__main__\":\n",
    "    predictions = process_image(\"test_3.jpg\")\n",
    "    for pred in predictions:\n",
    "        print(f\"{pred['class']}: {pred['bbox']} (conf: {pred['confidence']:.2f})\")"
   ]
  },
  {
   "cell_type": "markdown",
   "id": "473527a9",
   "metadata": {},
   "source": []
  },
  {
   "cell_type": "markdown",
   "id": "b90722ab",
   "metadata": {},
   "source": []
  }
 ],
 "metadata": {
  "kernelspec": {
   "display_name": "env",
   "language": "python",
   "name": "python3"
  },
  "language_info": {
   "codemirror_mode": {
    "name": "ipython",
    "version": 3
   },
   "file_extension": ".py",
   "mimetype": "text/x-python",
   "name": "python",
   "nbconvert_exporter": "python",
   "pygments_lexer": "ipython3",
   "version": "3.12.3"
  }
 },
 "nbformat": 4,
 "nbformat_minor": 5
}
