{
 "cells": [
  {
   "cell_type": "code",
   "execution_count": 35,
   "id": "2c742eab",
   "metadata": {},
   "outputs": [],
   "source": [
    "import torch\n",
    "from torch import nn, optim\n",
    "from torch.utils.data import DataLoader\n",
    "from torchvision import models\n",
    "from torchvision import transforms\n",
    "from torchvision.datasets import Omniglot\n",
    "from torchvision.models import resnet18\n",
    "from tqdm import tqdm\n",
    "from torchvision import datasets \n",
    "import torch\n",
    "import cv2\n",
    "import os\n",
    "from PIL import Image\n",
    "from ultralytics import YOLO\n",
    "import pandas as pd\n"
   ]
  },
  {
   "cell_type": "code",
   "execution_count": 36,
   "id": "f4fd562c",
   "metadata": {},
   "outputs": [],
   "source": [
    "# --- Configuration ---\n",
    "DETECTOR_MODEL_PATH = 'runs/detect/yolov8n-detector/weights/best.pt'\n",
    "PROTO_MODEL_PATH = \"prototypical_networks_2.pth\"\n",
    "PROTOTYPES_PATH = \"prototypes_resnet.pth\"\n",
    "INDEX_TO_LABEL_CSV = \"index_to_label.csv\"\n",
    "OUTPUT_FOLDER = \"detected_characters\"\n",
    "os.makedirs(OUTPUT_FOLDER, exist_ok=True)"
   ]
  },
  {
   "cell_type": "code",
   "execution_count": 37,
   "id": "637ccc8e",
   "metadata": {},
   "outputs": [],
   "source": [
    "device = torch.device(\"cuda\" if torch.cuda.is_available() else \"cpu\")"
   ]
  },
  {
   "cell_type": "code",
   "execution_count": 38,
   "id": "6ed2bb3d",
   "metadata": {},
   "outputs": [],
   "source": [
    "detector = YOLO(DETECTOR_MODEL_PATH)"
   ]
  },
  {
   "cell_type": "code",
   "execution_count": 39,
   "id": "a72b2e75",
   "metadata": {},
   "outputs": [],
   "source": [
    "# --- Model Definitions ---\n",
    "class PrototypicalNetworks(nn.Module):\n",
    "    def __init__(self, backbone: nn.Module):\n",
    "        super(PrototypicalNetworks, self).__init__()\n",
    "        self.backbone = backbone\n",
    "\n",
    "    def forward(self, support_images, support_labels, query_images):\n",
    "        z_support = self.backbone(support_images)\n",
    "        z_query = self.backbone(query_images)\n",
    "        n_way = len(torch.unique(support_labels))\n",
    "        z_proto = torch.cat([z_support[torch.nonzero(support_labels == label)].mean(0) for label in range(n_way)])\n",
    "        dists = torch.cdist(z_query, z_proto)\n",
    "        return -dists"
   ]
  },
  {
   "cell_type": "code",
   "execution_count": 40,
   "id": "982969ed",
   "metadata": {},
   "outputs": [
    {
     "name": "stderr",
     "output_type": "stream",
     "text": [
      "c:\\Users\\acer\\anaconda3\\envs\\env\\Lib\\site-packages\\torchvision\\models\\_utils.py:208: UserWarning: The parameter 'pretrained' is deprecated since 0.13 and may be removed in the future, please use 'weights' instead.\n",
      "  warnings.warn(\n",
      "c:\\Users\\acer\\anaconda3\\envs\\env\\Lib\\site-packages\\torchvision\\models\\_utils.py:223: UserWarning: Arguments other than a weight enum or `None` for 'weights' are deprecated since 0.13 and may be removed in the future. The current behavior is equivalent to passing `weights=ResNet18_Weights.IMAGENET1K_V1`. You can also use `weights=ResNet18_Weights.DEFAULT` to get the most up-to-date weights.\n",
      "  warnings.warn(msg)\n",
      "C:\\Users\\acer\\AppData\\Local\\Temp\\ipykernel_11552\\2689200946.py:6: FutureWarning: You are using `torch.load` with `weights_only=False` (the current default value), which uses the default pickle module implicitly. It is possible to construct malicious pickle data which will execute arbitrary code during unpickling (See https://github.com/pytorch/pytorch/blob/main/SECURITY.md#untrusted-models for more details). In a future release, the default value for `weights_only` will be flipped to `True`. This limits the functions that could be executed during unpickling. Arbitrary objects will no longer be allowed to be loaded via this mode unless they are explicitly allowlisted by the user via `torch.serialization.add_safe_globals`. We recommend you start setting `weights_only=True` for any use case where you don't have full control of the loaded file. Please open an issue on GitHub for any issues related to this experimental feature.\n",
      "  model.load_state_dict(torch.load(PROTO_MODEL_PATH, map_location=device))\n",
      "C:\\Users\\acer\\AppData\\Local\\Temp\\ipykernel_11552\\2689200946.py:7: FutureWarning: You are using `torch.load` with `weights_only=False` (the current default value), which uses the default pickle module implicitly. It is possible to construct malicious pickle data which will execute arbitrary code during unpickling (See https://github.com/pytorch/pytorch/blob/main/SECURITY.md#untrusted-models for more details). In a future release, the default value for `weights_only` will be flipped to `True`. This limits the functions that could be executed during unpickling. Arbitrary objects will no longer be allowed to be loaded via this mode unless they are explicitly allowlisted by the user via `torch.serialization.add_safe_globals`. We recommend you start setting `weights_only=True` for any use case where you don't have full control of the loaded file. Please open an issue on GitHub for any issues related to this experimental feature.\n",
      "  prototypes = torch.load(PROTOTYPES_PATH, map_location=device)\n"
     ]
    }
   ],
   "source": [
    "# 2. Load Prototypical Network\n",
    "def load_models():\n",
    "    backbone = models.resnet18(pretrained=True)\n",
    "    backbone.fc = nn.Flatten()\n",
    "    model = PrototypicalNetworks(backbone).to(device)\n",
    "    model.load_state_dict(torch.load(PROTO_MODEL_PATH, map_location=device))\n",
    "    prototypes = torch.load(PROTOTYPES_PATH, map_location=device)\n",
    "    return model, prototypes\n",
    "\n",
    "model, prototypes = load_models()"
   ]
  },
  {
   "cell_type": "code",
   "execution_count": 41,
   "id": "54434042",
   "metadata": {},
   "outputs": [],
   "source": [
    "from PIL import Image\n",
    "from torchvision import transforms\n",
    "\n",
    "# Define the same preprocessing used during training/support\n",
    "preprocess = transforms.Compose([\n",
    "    transforms.Grayscale(num_output_channels=3),  # convert to 3 channels\n",
    "    transforms.Resize((28, 28)),  # or your backbone's expected size\n",
    "    transforms.ToTensor(),\n",
    "    transforms.Normalize(mean=[0.5, 0.5, 0.5], std=[0.5, 0.5, 0.5])\n",
    "])\n",
    "\n",
    "\n"
   ]
  },
  {
   "cell_type": "code",
   "execution_count": 42,
   "id": "ae7ec1a8",
   "metadata": {},
   "outputs": [],
   "source": [
    "def process_image(image_path):\n",
    "    # 1. Run YOLOv8 Detection\n",
    "    detector = YOLO(DETECTOR_MODEL_PATH)\n",
    "    results = detector(image_path)\n",
    "    \n",
    "    # Create a copy of the image for drawing\n",
    "    output_img = results[0].orig_img.copy()\n",
    "    \n",
    "    # Get detection results\n",
    "    boxes = results[0].boxes\n",
    "    \n",
    "    # 2. Process each detection\n",
    "    predictions = []\n",
    "    for i, box in enumerate(boxes):\n",
    "        # Extract box info\n",
    "        x1, y1, x2, y2 = map(int, box.xyxy[0].cpu().numpy())\n",
    "        confidence = box.conf.item()\n",
    "        \n",
    "        # Crop character region\n",
    "        crop = output_img[y1:y2, x1:x2]\n",
    "        \n",
    "        try:\n",
    "            # Preprocess and classify\n",
    "            crop_pil = Image.fromarray(cv2.cvtColor(crop, cv2.COLOR_BGR2RGB))\n",
    "            crop_tensor = preprocess(crop_pil).unsqueeze(0).to(device)\n",
    "            \n",
    "            with torch.no_grad():\n",
    "                embedding = model.backbone(crop_tensor)\n",
    "                dists = torch.cdist(embedding, prototypes)\n",
    "                class_idx = torch.argmax(-dists).item()\n",
    "            \n",
    "            # Get class label\n",
    "            df = pd.read_csv(INDEX_TO_LABEL_CSV)\n",
    "            label = df[df['Index'] == class_idx]['Label Name'].values[0]\n",
    "            \n",
    "            # Store prediction\n",
    "            predictions.append({\n",
    "                \"bbox\": [x1, y1, x2, y2],\n",
    "                \"class\": label,\n",
    "                \"confidence\": confidence\n",
    "            })\n",
    "            \n",
    "            # Draw bounding box and label\n",
    "            box_color = (0, 255, 0)  # Green\n",
    "            text_color = (0, 0, 255)  # Red\n",
    "            \n",
    "            # Draw bounding box\n",
    "            cv2.rectangle(output_img, (x1, y1), (x2, y2), box_color, 2)\n",
    "            \n",
    "            # Draw label background\n",
    "            label_text = f\"{label} {confidence:.2f}\"\n",
    "            (text_width, text_height), _ = cv2.getTextSize(label_text, \n",
    "                                                         cv2.FONT_HERSHEY_SIMPLEX, \n",
    "                                                         0.7, 2)\n",
    "            cv2.rectangle(output_img, \n",
    "                         (x1, y1 - text_height - 10),\n",
    "                         (x1 + text_width, y1),\n",
    "                         box_color, -1)  # Filled rectangle\n",
    "            \n",
    "            # Put text\n",
    "            cv2.putText(output_img, label_text,\n",
    "                       (x1, y1 - 5), \n",
    "                       cv2.FONT_HERSHEY_SIMPLEX, \n",
    "                       0.7, text_color, 2)\n",
    "            \n",
    "        except Exception as e:\n",
    "            print(f\"Error processing detection {i}: {str(e)}\")\n",
    "            continue\n",
    "    \n",
    "    # Save output image\n",
    "    output_path = os.path.join(OUTPUT_FOLDER, os.path.basename(image_path))\n",
    "    cv2.imwrite(output_path, output_img)\n",
    "    \n",
    "    # Save predictions to JSON\n",
    "    json_path = os.path.join(OUTPUT_FOLDER, f\"{os.path.splitext(os.path.basename(image_path))[0]}_preds.json\")\n",
    "    with open(json_path, 'w') as f:\n",
    "        json.dump(predictions, f, indent=2)\n",
    "    \n",
    "    return predictions, output_path\n"
   ]
  },
  {
   "cell_type": "code",
   "execution_count": 43,
   "id": "a7b8c47a",
   "metadata": {},
   "outputs": [
    {
     "name": "stdout",
     "output_type": "stream",
     "text": [
      "\n",
      "image 1/1 c:\\Users\\acer\\Desktop\\prototypical_nets\\test_3.jpg: 320x256 8 items, 15.2ms\n",
      "Speed: 2.5ms preprocess, 15.2ms inference, 4.6ms postprocess per image at shape (1, 3, 320, 256)\n",
      "Error processing detection 0: Expected more than 1 value per channel when training, got input size torch.Size([1, 512, 1, 1])\n",
      "Error processing detection 1: Expected more than 1 value per channel when training, got input size torch.Size([1, 512, 1, 1])\n",
      "Error processing detection 2: Expected more than 1 value per channel when training, got input size torch.Size([1, 512, 1, 1])\n",
      "Error processing detection 3: Expected more than 1 value per channel when training, got input size torch.Size([1, 512, 1, 1])\n",
      "Error processing detection 4: Expected more than 1 value per channel when training, got input size torch.Size([1, 512, 1, 1])\n",
      "Error processing detection 5: Expected more than 1 value per channel when training, got input size torch.Size([1, 512, 1, 1])\n",
      "Error processing detection 6: Expected more than 1 value per channel when training, got input size torch.Size([1, 512, 1, 1])\n",
      "Error processing detection 7: Expected more than 1 value per channel when training, got input size torch.Size([1, 512, 1, 1])\n"
     ]
    },
    {
     "ename": "NameError",
     "evalue": "name 'json' is not defined",
     "output_type": "error",
     "traceback": [
      "\u001b[1;31m---------------------------------------------------------------------------\u001b[0m",
      "\u001b[1;31mNameError\u001b[0m                                 Traceback (most recent call last)",
      "Cell \u001b[1;32mIn[43], line 4\u001b[0m\n\u001b[0;32m      2\u001b[0m \u001b[38;5;28;01mif\u001b[39;00m \u001b[38;5;18m__name__\u001b[39m \u001b[38;5;241m==\u001b[39m \u001b[38;5;124m\"\u001b[39m\u001b[38;5;124m__main__\u001b[39m\u001b[38;5;124m\"\u001b[39m:\n\u001b[0;32m      3\u001b[0m     image_path \u001b[38;5;241m=\u001b[39m \u001b[38;5;124m\"\u001b[39m\u001b[38;5;124mtest_3.jpg\u001b[39m\u001b[38;5;124m\"\u001b[39m\n\u001b[1;32m----> 4\u001b[0m     predictions, output_img_path \u001b[38;5;241m=\u001b[39m \u001b[43mprocess_image\u001b[49m\u001b[43m(\u001b[49m\u001b[43mimage_path\u001b[49m\u001b[43m)\u001b[49m\n\u001b[0;32m      6\u001b[0m     \u001b[38;5;28mprint\u001b[39m(\u001b[38;5;124mf\u001b[39m\u001b[38;5;124m\"\u001b[39m\u001b[38;5;130;01m\\n\u001b[39;00m\u001b[38;5;124mDetection results saved to: \u001b[39m\u001b[38;5;132;01m{\u001b[39;00moutput_img_path\u001b[38;5;132;01m}\u001b[39;00m\u001b[38;5;124m\"\u001b[39m)\n\u001b[0;32m      7\u001b[0m     \u001b[38;5;28mprint\u001b[39m(\u001b[38;5;124m\"\u001b[39m\u001b[38;5;130;01m\\n\u001b[39;00m\u001b[38;5;124mPredicted Characters:\u001b[39m\u001b[38;5;124m\"\u001b[39m)\n",
      "Cell \u001b[1;32mIn[42], line 77\u001b[0m, in \u001b[0;36mprocess_image\u001b[1;34m(image_path)\u001b[0m\n\u001b[0;32m     75\u001b[0m json_path \u001b[38;5;241m=\u001b[39m os\u001b[38;5;241m.\u001b[39mpath\u001b[38;5;241m.\u001b[39mjoin(OUTPUT_FOLDER, \u001b[38;5;124mf\u001b[39m\u001b[38;5;124m\"\u001b[39m\u001b[38;5;132;01m{\u001b[39;00mos\u001b[38;5;241m.\u001b[39mpath\u001b[38;5;241m.\u001b[39msplitext(os\u001b[38;5;241m.\u001b[39mpath\u001b[38;5;241m.\u001b[39mbasename(image_path))[\u001b[38;5;241m0\u001b[39m]\u001b[38;5;132;01m}\u001b[39;00m\u001b[38;5;124m_preds.json\u001b[39m\u001b[38;5;124m\"\u001b[39m)\n\u001b[0;32m     76\u001b[0m \u001b[38;5;28;01mwith\u001b[39;00m \u001b[38;5;28mopen\u001b[39m(json_path, \u001b[38;5;124m'\u001b[39m\u001b[38;5;124mw\u001b[39m\u001b[38;5;124m'\u001b[39m) \u001b[38;5;28;01mas\u001b[39;00m f:\n\u001b[1;32m---> 77\u001b[0m     \u001b[43mjson\u001b[49m\u001b[38;5;241m.\u001b[39mdump(predictions, f, indent\u001b[38;5;241m=\u001b[39m\u001b[38;5;241m2\u001b[39m)\n\u001b[0;32m     79\u001b[0m \u001b[38;5;28;01mreturn\u001b[39;00m predictions, output_path\n",
      "\u001b[1;31mNameError\u001b[0m: name 'json' is not defined"
     ]
    }
   ],
   "source": [
    "\n",
    "# --- Run Pipeline ---\n",
    "if __name__ == \"__main__\":\n",
    "    image_path = \"test_3.jpg\"\n",
    "    predictions, output_img_path = process_image(image_path)\n",
    "    \n",
    "    print(f\"\\nDetection results saved to: {output_img_path}\")\n",
    "    print(\"\\nPredicted Characters:\")\n",
    "    for i, pred in enumerate(predictions):\n",
    "        print(f\"{i+1}. {pred['class']} (Confidence: {pred['confidence']:.2f}) at position {pred['bbox']}\")"
   ]
  },
  {
   "cell_type": "code",
   "execution_count": null,
   "id": "8edb8fd9",
   "metadata": {},
   "outputs": [],
   "source": []
  },
  {
   "cell_type": "code",
   "execution_count": null,
   "id": "9b4d36da",
   "metadata": {},
   "outputs": [],
   "source": []
  },
  {
   "cell_type": "code",
   "execution_count": null,
   "id": "5040c6ae",
   "metadata": {},
   "outputs": [],
   "source": []
  },
  {
   "cell_type": "code",
   "execution_count": null,
   "id": "8fd577b3",
   "metadata": {},
   "outputs": [],
   "source": [
    "# --- Fixed Functions ---\n",
    "def prepare_query_image(image_path):\n",
    "    \"\"\"Convert image to preprocessed tensor with batch dim\"\"\"\n",
    "    img = Image.open(image_path).convert(\"RGB\")\n",
    "    img_tensor = preprocess(img).unsqueeze(0).to(device)  # Shape: [1, 3, 224, 224]\n",
    "    return img_tensor\n",
    "\n",
    "def infer_single_query(backbone, prototypes, query_image_tensor):\n",
    "    \"\"\"Classify a single query image\"\"\"\n",
    "    backbone.eval()\n",
    "    with torch.no_grad():\n",
    "        z_query = backbone(query_image_tensor)  # [1, embedding_dim]\n",
    "        dists = torch.cdist(z_query, prototypes)  # [1, n_way]\n",
    "        pred = torch.argmax(-dists, dim=1).item()\n",
    "    return pred"
   ]
  },
  {
   "cell_type": "code",
   "execution_count": null,
   "id": "8614967c",
   "metadata": {},
   "outputs": [],
   "source": [
    "# --- Main Pipeline ---\n",
    "def process_image(image_path):\n",
    "    img = cv2.imread(image_path)\n",
    "    results = detector(img)\n",
    "    predictions = []\n",
    "    \n",
    "    for i, box in enumerate(results[0].boxes.xyxy.cpu().numpy()):\n",
    "        x1, y1, x2, y2 = map(int, box)\n",
    "        crop = img[y1:y2, x1:x2]\n",
    "        crop_path = os.path.join(OUTPUT_FOLDER, f'char_{i}.png')\n",
    "        cv2.imwrite(crop_path, crop)\n",
    "        \n",
    "        try:\n",
    "            # Fixed preprocessing and inference\n",
    "            crop_tensor = prepare_query_image(crop_path)\n",
    "            class_idx = infer_single_query(model.backbone, prototypes, crop_tensor)\n",
    "            \n",
    "            df = pd.read_csv(INDEX_TO_LABEL_CSV)\n",
    "            label = df[df['Index'] == class_idx]['Label Name'].values[0]\n",
    "            \n",
    "            predictions.append({\n",
    "                \"bbox\": [x1, y1, x2, y2],\n",
    "                \"class\": label,\n",
    "                \"confidence\": box.conf.item()\n",
    "            })\n",
    "            \n",
    "            # Draw results\n",
    "            cv2.rectangle(img, (x1, y1), (x2, y2), (0, 255, 0), 2)\n",
    "            cv2.putText(img, label, (x1, y1-10), cv2.FONT_HERSHEY_SIMPLEX, 0.9, (0,255,0), 2)\n",
    "        except Exception as e:\n",
    "            print(f\"Error processing crop {i}: {e}\")\n",
    "    \n",
    "    output_path = os.path.join(OUTPUT_FOLDER, \"annotated.jpg\")\n",
    "    cv2.imwrite(output_path, img)\n",
    "    return predictions"
   ]
  },
  {
   "cell_type": "code",
   "execution_count": null,
   "id": "da590239",
   "metadata": {},
   "outputs": [],
   "source": [
    "# --- Execution ---\n",
    "if __name__ == \"__main__\":\n",
    "    predictions = process_image(\"test_3.jpg\")\n",
    "    for pred in predictions:\n",
    "        print(f\"{pred['class']}: {pred['bbox']} (conf: {pred['confidence']:.2f})\")"
   ]
  },
  {
   "cell_type": "markdown",
   "id": "473527a9",
   "metadata": {},
   "source": []
  },
  {
   "cell_type": "markdown",
   "id": "b90722ab",
   "metadata": {},
   "source": []
  }
 ],
 "metadata": {
  "kernelspec": {
   "display_name": "env",
   "language": "python",
   "name": "python3"
  },
  "language_info": {
   "codemirror_mode": {
    "name": "ipython",
    "version": 3
   },
   "file_extension": ".py",
   "mimetype": "text/x-python",
   "name": "python",
   "nbconvert_exporter": "python",
   "pygments_lexer": "ipython3",
   "version": "3.12.3"
  }
 },
 "nbformat": 4,
 "nbformat_minor": 5
}
